{
  "cells": [
    {
      "cell_type": "raw",
      "metadata": {
        "vscode": {
          "languageId": "raw"
        }
      },
      "source": [
        "# 🎯 Warhammer AI System - Complete Demo\n",
        "\n",
        "This notebook demonstrates the full capabilities of our AI system with practical examples.\n",
        "\n",
        "## What You'll See:\n",
        "1. **Basic Combat Simulation** - Watch units fight with authentic Warhammer mechanics\n",
        "2. **AI vs AI Battles** - MCTS agent vs heuristic strategies  \n",
        "3. **Army Evolution** - Genetic algorithm optimizing compositions\n",
        "4. **Strategic Analysis** - Matchup analysis across different army types\n",
        "5. **Advanced Features** - Expanded units and tactical insights\n",
        "\n",
        "Perfect for understanding the system's capabilities!\n"
      ]
    },
    {
      "cell_type": "code",
      "execution_count": null,
      "metadata": {},
      "outputs": [],
      "source": [
        "# Load all systems\n",
        "print(\"🚀 Loading Warhammer AI System...\")\n",
        "%run warhammer_ai_main.ipynb\n",
        "print(\"✅ Core system loaded!\")\n",
        "\n",
        "%run expanded_units.ipynb  \n",
        "print(\"✅ Expanded units loaded!\")\n",
        "\n",
        "%run strategic_analysis.ipynb\n",
        "print(\"✅ Strategic analyzer loaded!\")\n",
        "\n",
        "print(\"\\\\n🎯 ALL SYSTEMS OPERATIONAL!\")\n",
        "print(\"=\" * 50)\n"
      ]
    },
    {
      "cell_type": "code",
      "execution_count": null,
      "metadata": {},
      "outputs": [],
      "source": [
        "# Demo 1: Quick Army Effectiveness Test\n",
        "print(\"\\\\n🥇 DEMO 1: ARMY EFFECTIVENESS TEST\")\n",
        "print(\"Testing different Nuln army compositions...\")\n",
        "\n",
        "test_armies = {\n",
        "    \"Gunline\": {'nuln_state_troops_handgun': 10, 'nuln_great_cannon': 1},\n",
        "    \"Melee Focus\": {'nuln_state_troops_halberd': 15, 'nuln_captain': 1},\n",
        "    \"Elite Tech\": {'nuln_handgunners': 8, 'nuln_steam_tank': 1}\n",
        "}\n",
        "\n",
        "results = {}\n",
        "for army_name, composition in test_armies.items():\n",
        "    print(f\"\\\\n⚔️ Testing {army_name}...\")\n",
        "    win_rate = quick_battle(composition, iterations=30)\n",
        "    results[army_name] = win_rate\n",
        "\n",
        "print(f\"\\\\n📊 EFFECTIVENESS RANKINGS:\")\n",
        "sorted_results = sorted(results.items(), key=lambda x: x[1], reverse=True)\n",
        "for i, (army, rate) in enumerate(sorted_results, 1):\n",
        "    print(f\"  {i}. {army}: {rate:.1%} win rate\")\n"
      ]
    },
    {
      "cell_type": "code",
      "execution_count": null,
      "metadata": {},
      "outputs": [],
      "source": [
        "# Demo 2: Genetic Algorithm Evolution (Mini Version)\n",
        "print(\"\\\\n🧬 DEMO 2: GENETIC ALGORITHM EVOLUTION\")\n",
        "print(\"Running rapid evolution to find optimal army...\")\n",
        "\n",
        "# Quick GA run\n",
        "mini_ga = GeneticAlgorithm(\n",
        "    population_size=8,   # Small for demo\n",
        "    generations=3,       # Quick demo  \n",
        "    mutation_rate=0.2,\n",
        "    points_limit=400     # Small armies\n",
        ")\n",
        "\n",
        "print(\"\\\\n🔬 Starting evolution...\")\n",
        "best_evolved = mini_ga.evolve(verbose=True)\n",
        "\n",
        "print(f\"\\\\n🏆 EVOLUTION COMPLETE!\")\n",
        "print(f\"Best evolved army:\")\n",
        "for unit, size in zip(best_evolved.units, best_evolved.unit_sizes):\n",
        "    nuln_templates = expanded_nuln\n",
        "    if unit in nuln_templates:\n",
        "        unit_name = nuln_templates[unit].name\n",
        "        print(f\"  • {unit_name}: {size} models\")\n",
        "print(f\"Total Points: {best_evolved.total_points}\")\n",
        "print(f\"Fitness: {best_evolved.fitness:.1%}\")\n",
        "\n",
        "# Plot evolution if successful\n",
        "if mini_ga.best_fitness_history:\n",
        "    plt.figure(figsize=(8, 4))\n",
        "    plt.plot(mini_ga.best_fitness_history, 'bo-', linewidth=2, markersize=8)\n",
        "    plt.xlabel('Generation')\n",
        "    plt.ylabel('Best Fitness')\n",
        "    plt.title('Evolution Progress (Mini Demo)')\n",
        "    plt.grid(True, alpha=0.3)\n",
        "    plt.show()\n"
      ]
    },
    {
      "cell_type": "code",
      "execution_count": null,
      "metadata": {},
      "outputs": [],
      "source": [
        "# Demo 3: Strategic Matchup Analysis\n",
        "print(\"\\\\n⚔️ DEMO 3: STRATEGIC MATCHUP ANALYSIS\")\n",
        "print(\"Analyzing army effectiveness against different enemy types...\")\n",
        "\n",
        "# Run limited matchup analysis\n",
        "print(\"\\\\n🔍 Running strategic analysis...\")\n",
        "matchup_results = analyzer.run_matchup_analysis(nuln_presets, enemy_presets, battles_per_matchup=3)\n",
        "\n",
        "# Display results\n",
        "print(\"\\\\n📊 MATCHUP RESULTS:\")\n",
        "pivot_table = matchup_results.pivot(index='nuln_army', columns='enemy_type', values='win_rate')\n",
        "print(pivot_table.round(2))\n",
        "\n",
        "# Find best performers\n",
        "print(f\"\\\\n🏆 TOP PERFORMERS:\")\n",
        "avg_performance = matchup_results.groupby('nuln_army')['win_rate'].mean().sort_values(ascending=False)\n",
        "for army, rate in avg_performance.head(3).items():\n",
        "    print(f\"  • {army}: {rate:.1%} average win rate\")\n",
        "\n",
        "# Create heatmap\n",
        "plt.figure(figsize=(10, 6))\n",
        "sns.heatmap(pivot_table, annot=True, cmap='RdYlGn', center=0.5, \n",
        "           cbar_kws={'label': 'Win Rate'}, fmt='.2f')\n",
        "plt.title('Army vs Enemy Matchup Matrix')\n",
        "plt.ylabel('Nuln Army Type')\n",
        "plt.xlabel('Enemy Type')\n",
        "plt.tight_layout()\n",
        "plt.show()\n"
      ]
    }
  ],
  "metadata": {
    "language_info": {
      "name": "python"
    }
  },
  "nbformat": 4,
  "nbformat_minor": 2
}
